{
 "cells": [
  {
   "cell_type": "markdown",
   "metadata": {},
   "source": [
    "# Prediksi Pasien Penderita Demam Berdarah Menggunakan Naive Bayes"
   ]
  },
  {
   "cell_type": "markdown",
   "metadata": {},
   "source": [
    "Nama    : Kavin Nafis Maulana\n",
    "\n",
    "NIM     : A11.2022.14253\n",
    "\n",
    "Kelompok: A11.4517\n",
    "\n",
    "\n",
    "\n",
    "\n",
    "**Ringkasan** \n",
    "\n",
    "Demam berdarah merupakan salah satu penyakit yang sering muncul di\n",
    "Indonesia, terutama di bagian-bagian daerah yang kurang terbangun. Penyakit\n",
    "ini disebabkan oleh virus dengue yang disebarkan oleh nyamuk-nyamuk\n",
    "aedes. Penyakit ini bisa menjadi fatal jika tidak ditangani secara maksimal\n",
    "Sehingga dibuatlah model ini yang dapat membantu prediksi jika seorang\n",
    "pasien menderita demam berdarah. Dalam modelling ini, data berifat public\n",
    "yang diperoleh dari Kaggle, dengan entry data sebanyak 5000 data dengan\n",
    "variable-variabel penting, seperti suhu tubuh, jumlah platelet, jumlah sel darah\n",
    "putih, rasa sakit, adanya ruam, jenis kelamin, dan status infeksi pasien\n",
    "\n",
    "\n",
    "**Masalah**\n",
    "\n",
    "Demam berdarah atau Dengue Haemoragic Fever (DHF) adalah suatu\n",
    "penyakit yang disebabkan oleh virus dengue, virus ini mudah disbarkan oleh\n",
    "nyamuk aedes aegypti dan aedes albopictus betina. Pada tahun 2023, ada\n",
    "88.593 kasus demam berdarah yang Dimana 621 orang diantaranya meninggal\n",
    "dunia.\n",
    "Demam berdarah jika tidak ditangani secara maksimal dapat menjadi fatal\n",
    "karna demam berdarah akan menyebabkan terjadinya kebocoran plasma. Hal\n",
    "ini mengakibatkan terjadinya perdarahan serius, syok, hingga berujung pada\n",
    "kematian.\n",
    "\n",
    "**Tujuan**\n",
    "Membuat model yang dapat melakukan prediksi terhadap seorang pasien terinfeksi\n",
    "demam berdarah atau tidak sehingga dapat mendapatkan penanganan yang sesuai\n",
    "dan cepat.\n",
    "\n",
    "**Alur**\n",
    "\n",
    "![Load data -> Preprocessing data -> Split data -> Model training -> Evaluasi -> Deployment](Alur.png)\n"
   ]
  },
  {
   "cell_type": "code",
   "execution_count": null,
   "metadata": {},
   "outputs": [],
   "source": []
  },
  {
   "cell_type": "code",
   "execution_count": null,
   "metadata": {},
   "outputs": [],
   "source": []
  }
 ],
 "metadata": {
  "language_info": {
   "name": "python"
  }
 },
 "nbformat": 4,
 "nbformat_minor": 2
}
