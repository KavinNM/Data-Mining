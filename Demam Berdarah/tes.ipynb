{
 "cells": [
  {
   "cell_type": "code",
   "execution_count": 1,
   "metadata": {},
   "outputs": [],
   "source": [
    "import numpy as np\n",
    "from sklearn.model_selection import train_test_split\n",
    "from sklearn.preprocessing import LabelEncoder, StandardScaler\n",
    "from sklearn.naive_bayes import GaussianNB, CategoricalNB\n",
    "from sklearn.metrics import classification_report, accuracy_score\n",
    "from sklearn.pipeline import Pipeline\n",
    "from sklearn.impute import SimpleImputer\n",
    "import pandas as pd"
   ]
  },
  {
   "cell_type": "code",
   "execution_count": 2,
   "metadata": {},
   "outputs": [
    {
     "data": {
      "text/html": [
       "<div>\n",
       "<style scoped>\n",
       "    .dataframe tbody tr th:only-of-type {\n",
       "        vertical-align: middle;\n",
       "    }\n",
       "\n",
       "    .dataframe tbody tr th {\n",
       "        vertical-align: top;\n",
       "    }\n",
       "\n",
       "    .dataframe thead th {\n",
       "        text-align: right;\n",
       "    }\n",
       "</style>\n",
       "<table border=\"1\" class=\"dataframe\">\n",
       "  <thead>\n",
       "    <tr style=\"text-align: right;\">\n",
       "      <th></th>\n",
       "      <th>Temperature</th>\n",
       "      <th>Platelet_Count</th>\n",
       "      <th>White_Blood_Cell_Count</th>\n",
       "      <th>Body_Pain</th>\n",
       "      <th>Rash</th>\n",
       "      <th>Gender</th>\n",
       "      <th>Infected</th>\n",
       "    </tr>\n",
       "  </thead>\n",
       "  <tbody>\n",
       "    <tr>\n",
       "      <th>0</th>\n",
       "      <td>98.249080</td>\n",
       "      <td>138060.514266</td>\n",
       "      <td>6854.650578</td>\n",
       "      <td>0</td>\n",
       "      <td>0</td>\n",
       "      <td>Female</td>\n",
       "      <td>False</td>\n",
       "    </tr>\n",
       "    <tr>\n",
       "      <th>1</th>\n",
       "      <td>99.401429</td>\n",
       "      <td>102193.912651</td>\n",
       "      <td>7347.397486</td>\n",
       "      <td>1</td>\n",
       "      <td>0</td>\n",
       "      <td>Female</td>\n",
       "      <td>False</td>\n",
       "    </tr>\n",
       "    <tr>\n",
       "      <th>2</th>\n",
       "      <td>98.963988</td>\n",
       "      <td>141755.585100</td>\n",
       "      <td>6011.997182</td>\n",
       "      <td>0</td>\n",
       "      <td>1</td>\n",
       "      <td>Male</td>\n",
       "      <td>False</td>\n",
       "    </tr>\n",
       "    <tr>\n",
       "      <th>3</th>\n",
       "      <td>98.697317</td>\n",
       "      <td>168269.474640</td>\n",
       "      <td>6852.807249</td>\n",
       "      <td>1</td>\n",
       "      <td>0</td>\n",
       "      <td>Male</td>\n",
       "      <td>True</td>\n",
       "    </tr>\n",
       "    <tr>\n",
       "      <th>4</th>\n",
       "      <td>97.812037</td>\n",
       "      <td>160752.598059</td>\n",
       "      <td>6800.937446</td>\n",
       "      <td>1</td>\n",
       "      <td>0</td>\n",
       "      <td>Female</td>\n",
       "      <td>True</td>\n",
       "    </tr>\n",
       "  </tbody>\n",
       "</table>\n",
       "</div>"
      ],
      "text/plain": [
       "   Temperature  Platelet_Count  White_Blood_Cell_Count  Body_Pain  Rash  \\\n",
       "0    98.249080   138060.514266             6854.650578          0     0   \n",
       "1    99.401429   102193.912651             7347.397486          1     0   \n",
       "2    98.963988   141755.585100             6011.997182          0     1   \n",
       "3    98.697317   168269.474640             6852.807249          1     0   \n",
       "4    97.812037   160752.598059             6800.937446          1     0   \n",
       "\n",
       "   Gender  Infected  \n",
       "0  Female     False  \n",
       "1  Female     False  \n",
       "2    Male     False  \n",
       "3    Male      True  \n",
       "4  Female      True  "
      ]
     },
     "execution_count": 2,
     "metadata": {},
     "output_type": "execute_result"
    }
   ],
   "source": [
    "data = pd.read_csv('dengue_dataset.csv')\n",
    "data.head()"
   ]
  },
  {
   "cell_type": "code",
   "execution_count": 3,
   "metadata": {},
   "outputs": [],
   "source": [
    "X = data.drop(columns=['Infected'])\n",
    "y = data['Infected']"
   ]
  },
  {
   "cell_type": "code",
   "execution_count": 4,
   "metadata": {},
   "outputs": [],
   "source": [
    "numerical_features = ['Temperature', 'Platelet_Count', 'White_Blood_Cell_Count']\n",
    "binary_features = ['Body_Pain', 'Rash']\n",
    "categorical_features = ['Gender']"
   ]
  },
  {
   "cell_type": "code",
   "execution_count": 5,
   "metadata": {},
   "outputs": [],
   "source": [
    "numerical_pipeline = Pipeline([\n",
    "    ('imputer', SimpleImputer(strategy='mean')),\n",
    "    ('scaler', StandardScaler())\n",
    "])"
   ]
  },
  {
   "cell_type": "code",
   "execution_count": 6,
   "metadata": {},
   "outputs": [],
   "source": [
    "X[numerical_features] = numerical_pipeline.fit_transform(X[numerical_features])"
   ]
  },
  {
   "cell_type": "code",
   "execution_count": 7,
   "metadata": {},
   "outputs": [],
   "source": [
    "def encode_gender(value):\n",
    "    if value == 'Female':\n",
    "        return 0\n",
    "    else:\n",
    "        return 1\n",
    "\n",
    "for col in categorical_features:\n",
    "    X[col] = X[col].astype(str).apply(encode_gender)"
   ]
  },
  {
   "cell_type": "code",
   "execution_count": null,
   "metadata": {},
   "outputs": [],
   "source": []
  },
  {
   "cell_type": "code",
   "execution_count": 8,
   "metadata": {},
   "outputs": [
    {
     "name": "stdout",
     "output_type": "stream",
     "text": [
      "<class 'pandas.core.frame.DataFrame'>\n",
      "RangeIndex: 5000 entries, 0 to 4999\n",
      "Data columns (total 7 columns):\n",
      " #   Column                  Non-Null Count  Dtype  \n",
      "---  ------                  --------------  -----  \n",
      " 0   Temperature             5000 non-null   float64\n",
      " 1   Platelet_Count          5000 non-null   float64\n",
      " 2   White_Blood_Cell_Count  5000 non-null   float64\n",
      " 3   Body_Pain               5000 non-null   int64  \n",
      " 4   Rash                    5000 non-null   int64  \n",
      " 5   Gender                  5000 non-null   object \n",
      " 6   Infected                5000 non-null   bool   \n",
      "dtypes: bool(1), float64(3), int64(2), object(1)\n",
      "memory usage: 239.4+ KB\n"
     ]
    }
   ],
   "source": [
    "data.info()"
   ]
  },
  {
   "cell_type": "code",
   "execution_count": 9,
   "metadata": {},
   "outputs": [
    {
     "data": {
      "text/html": [
       "<div>\n",
       "<style scoped>\n",
       "    .dataframe tbody tr th:only-of-type {\n",
       "        vertical-align: middle;\n",
       "    }\n",
       "\n",
       "    .dataframe tbody tr th {\n",
       "        vertical-align: top;\n",
       "    }\n",
       "\n",
       "    .dataframe thead th {\n",
       "        text-align: right;\n",
       "    }\n",
       "</style>\n",
       "<table border=\"1\" class=\"dataframe\">\n",
       "  <thead>\n",
       "    <tr style=\"text-align: right;\">\n",
       "      <th></th>\n",
       "      <th>Temperature</th>\n",
       "      <th>Platelet_Count</th>\n",
       "      <th>White_Blood_Cell_Count</th>\n",
       "      <th>Body_Pain</th>\n",
       "      <th>Rash</th>\n",
       "      <th>Gender</th>\n",
       "      <th>Infected</th>\n",
       "    </tr>\n",
       "  </thead>\n",
       "  <tbody>\n",
       "    <tr>\n",
       "      <th>0</th>\n",
       "      <td>98.249080</td>\n",
       "      <td>138060.514266</td>\n",
       "      <td>6854.650578</td>\n",
       "      <td>0</td>\n",
       "      <td>0</td>\n",
       "      <td>Female</td>\n",
       "      <td>False</td>\n",
       "    </tr>\n",
       "    <tr>\n",
       "      <th>1</th>\n",
       "      <td>99.401429</td>\n",
       "      <td>102193.912651</td>\n",
       "      <td>7347.397486</td>\n",
       "      <td>1</td>\n",
       "      <td>0</td>\n",
       "      <td>Female</td>\n",
       "      <td>False</td>\n",
       "    </tr>\n",
       "    <tr>\n",
       "      <th>2</th>\n",
       "      <td>98.963988</td>\n",
       "      <td>141755.585100</td>\n",
       "      <td>6011.997182</td>\n",
       "      <td>0</td>\n",
       "      <td>1</td>\n",
       "      <td>Male</td>\n",
       "      <td>False</td>\n",
       "    </tr>\n",
       "    <tr>\n",
       "      <th>3</th>\n",
       "      <td>98.697317</td>\n",
       "      <td>168269.474640</td>\n",
       "      <td>6852.807249</td>\n",
       "      <td>1</td>\n",
       "      <td>0</td>\n",
       "      <td>Male</td>\n",
       "      <td>True</td>\n",
       "    </tr>\n",
       "    <tr>\n",
       "      <th>4</th>\n",
       "      <td>97.812037</td>\n",
       "      <td>160752.598059</td>\n",
       "      <td>6800.937446</td>\n",
       "      <td>1</td>\n",
       "      <td>0</td>\n",
       "      <td>Female</td>\n",
       "      <td>True</td>\n",
       "    </tr>\n",
       "  </tbody>\n",
       "</table>\n",
       "</div>"
      ],
      "text/plain": [
       "   Temperature  Platelet_Count  White_Blood_Cell_Count  Body_Pain  Rash  \\\n",
       "0    98.249080   138060.514266             6854.650578          0     0   \n",
       "1    99.401429   102193.912651             7347.397486          1     0   \n",
       "2    98.963988   141755.585100             6011.997182          0     1   \n",
       "3    98.697317   168269.474640             6852.807249          1     0   \n",
       "4    97.812037   160752.598059             6800.937446          1     0   \n",
       "\n",
       "   Gender  Infected  \n",
       "0  Female     False  \n",
       "1  Female     False  \n",
       "2    Male     False  \n",
       "3    Male      True  \n",
       "4  Female      True  "
      ]
     },
     "execution_count": 9,
     "metadata": {},
     "output_type": "execute_result"
    }
   ],
   "source": [
    "data.head()"
   ]
  },
  {
   "cell_type": "code",
   "execution_count": 10,
   "metadata": {},
   "outputs": [],
   "source": [
    "X_train, X_test, y_train, y_test = train_test_split(X, y, test_size=0.2, random_state=42)"
   ]
  },
  {
   "cell_type": "code",
   "execution_count": 11,
   "metadata": {},
   "outputs": [],
   "source": [
    "gnb = GaussianNB()\n",
    "gnb.fit(X_train[numerical_features], y_train)\n",
    "numerical_preds = gnb.predict(X_test[numerical_features])"
   ]
  },
  {
   "cell_type": "code",
   "execution_count": 20,
   "metadata": {},
   "outputs": [
    {
     "name": "stdout",
     "output_type": "stream",
     "text": [
      "Naive Akurasi:0.74\n"
     ]
    }
   ],
   "source": [
    "acc=accuracy_score(y_test, numerical_preds)\n",
    "print(f\"Naive Akurasi:{acc:.2f}\")"
   ]
  },
  {
   "cell_type": "code",
   "execution_count": 13,
   "metadata": {},
   "outputs": [],
   "source": [
    "cat_nb = CategoricalNB()\n",
    "cat_nb.fit(X_train[binary_features + categorical_features], y_train)\n",
    "categorical_preds = cat_nb.predict(X_test[binary_features + categorical_features])"
   ]
  },
  {
   "cell_type": "code",
   "execution_count": 14,
   "metadata": {},
   "outputs": [],
   "source": [
    "final_preds = (numerical_preds.astype(int) + categorical_preds.astype(int)) >= 1\n"
   ]
  },
  {
   "cell_type": "code",
   "execution_count": 19,
   "metadata": {},
   "outputs": [
    {
     "name": "stdout",
     "output_type": "stream",
     "text": [
      "Hybrid Accuracy: 0.808\n"
     ]
    }
   ],
   "source": [
    "print(\"Hybrid Accuracy:\", accuracy_score(y_test, final_preds))"
   ]
  }
 ],
 "metadata": {
  "kernelspec": {
   "display_name": "Python 3",
   "language": "python",
   "name": "python3"
  },
  "language_info": {
   "codemirror_mode": {
    "name": "ipython",
    "version": 3
   },
   "file_extension": ".py",
   "mimetype": "text/x-python",
   "name": "python",
   "nbconvert_exporter": "python",
   "pygments_lexer": "ipython3",
   "version": "3.12.8"
  }
 },
 "nbformat": 4,
 "nbformat_minor": 2
}
